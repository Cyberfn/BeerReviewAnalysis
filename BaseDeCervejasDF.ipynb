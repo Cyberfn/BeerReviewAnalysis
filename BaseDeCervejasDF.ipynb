{
 "cells": [
  {
   "cell_type": "markdown",
   "id": "b32fe8d0",
   "metadata": {
    "_cell_guid": "bdab6584-05ea-4862-bae4-f48d779bc1c1",
    "_uuid": "1539c36c-4c72-4d10-99d4-7e7a42086b94",
    "papermill": {
     "duration": 0.009947,
     "end_time": "2024-10-29T13:02:23.754876",
     "exception": false,
     "start_time": "2024-10-29T13:02:23.744929",
     "status": "completed"
    },
    "tags": []
   },
   "source": [
    "# Análise de Avaliações de Cervejas\n",
    "\n",
    "## Descrição do Projeto\n",
    "Este projeto explora uma base de dados com mais de 1,5 milhão de avaliações de cervejas feitas por usuários. As avaliações abordam diversos aspectos sensoriais, como aroma, aparência, sabor e sensação, além de informações detalhadas sobre as cervejarias e os estilos de cerveja. A base é ideal para análises de tendências de consumo, preferências de estilos e insights sobre o comportamento dos consumidores de cervejas.\n",
    "\n",
    "## Objetivos\n",
    "- **Analisar a qualidade das cervejas** com base em diferentes critérios sensoriais.\n",
    "- **Identificar tendências** no consumo de cervejas.\n",
    "- **Construir um modelo preditivo** para estimar a nota geral da cerveja (`review_overall`) com base nas avaliações sensoriais.\n",
    "\n",
    "## Estrutura dos Dados\n",
    "A base de dados contém as seguintes variáveis:\n",
    "\n",
    "| Variável                  | Descrição                                         |\n",
    "|---------------------------|---------------------------------------------------|\n",
    "| **brewery_id**            | Identificador único da cervejaria.                |\n",
    "| **brewery_name**          | Nome da cervejaria.                              |\n",
    "| **review_time**           | Data e hora da avaliação.                        |\n",
    "| **review_overall**        | Nota geral da cerveja (escala de 1 a 5).        |\n",
    "| **review_aroma**          | Avaliação do aroma (escala de 1 a 5).           |\n",
    "| **review_appearance**     | Avaliação da aparência (escala de 1 a 5).       |\n",
    "| **review_profilename**    | Nome de usuário do avaliador.                    |\n",
    "| **beer_style**            | Estilo ou tipo de cerveja.                       |\n",
    "| **review_palate**         | Avaliação da sensação na boca (escala de 1 a 5).|\n",
    "| **review_taste**          | Avaliação do sabor (escala de 1 a 5).           |\n",
    "| **beer_name**             | Nome da cerveja.                                 |\n",
    "| **beer_abv**              | Teor alcoólico da cerveja (ABV - Alcohol by Volume). |\n",
    "| **beer_beerid**           | Identificador único da cerveja.                  |\n",
    "\n",
    "Com essa estrutura, é possível realizar uma análise detalhada da relação entre os diferentes aspectos sensoriais e as notas atribuídas pelos consumidores, proporcionando insights valiosos sobre a indústria cervejeira.\n",
    "\n",
    "## Metodologia\n",
    "1. **Importação de Bibliotecas**: Utilizamos bibliotecas como `pandas`, `numpy`, `sklearn` e `matplotlib` para manipulação de dados, modelagem e visualização.\n",
    "2. **Carregamento dos Dados**: Os dados foram carregados de um arquivo CSV e armazenados em um DataFrame.\n",
    "3. **Preparação dos Dados**:\n",
    "   - Seleção de características e variável alvo (`review_overall`).\n",
    "   - Conversão da coluna `review_time` para o formato datetime (opcional).\n",
    "   - Classificação de avaliações em categorias textuais:\n",
    "     - Os valores de 1 a 5 foram interpretados da seguinte forma:\n",
    "       - `1.0`: \"Muito ruim\"\n",
    "       - `1.5`: \"Ruim\"\n",
    "       - `2.0`: \"Regular\"\n",
    "       - `2.5`: \"Razoável\"\n",
    "       - `3.0`: \"Satisfatório\"\n",
    "       - `3.5`: \"Agradável\"\n",
    "       - `4.0`: \"Muito bom\"\n",
    "       - `4.5`: \"Excelente\"\n",
    "       - `5.0`: \"Perfeito\"\n",
    "4. **Amostragem dos Dados**: Apenas 10% do total de dados foram utilizados para análise, para garantir uma amostra representativa, mantendo o desempenho computacional.\n",
    "5. **Divisão dos Dados**: O conjunto de dados foi dividido em conjuntos de treino e teste (80/20).\n",
    "6. **Criação e Treinamento do Modelo**: Um modelo de regressão linear foi criado e treinado para prever a nota geral da cerveja.\n",
    "7. **Avaliação do Modelo**: O modelo foi avaliado utilizando as métricas de erro quadrático médio (MSE) e o coeficiente de determinação (R²).\n",
    "8. **Previsões**: Foi criada uma função para prever a nota geral com base em entradas sensoriais.\n",
    "9. **Visualização dos Resultados**: Um gráfico de dispersão foi gerado para comparar os valores reais e previstos.\n",
    "\n",
    "## Resultados\n",
    "O modelo conseguiu prever a nota geral com uma precisão razoável, proporcionando insights sobre a relação entre as características sensoriais e a avaliação geral da cerveja.\n",
    "\n",
    "## Conclusão\n",
    "Este projeto oferece uma visão abrangente sobre as avaliações de cervejas, permitindo que tanto os consumidores quanto os produtores entendam melhor as preferências e tendências no mercado.\n",
    "\n",
    "## Métricas Utilizadas\n",
    "- **MSE (Erro Quadrático Médio)**: Mede o quão distantes as previsões estão dos valores reais. Quanto menor, melhor a precisão do modelo.\n",
    "- **R² (Coeficiente de Determinação)**: Indica o quanto o modelo explica a variabilidade dos dados, variando de 0 a 1, onde valores mais próximos de 1 indicam melhor desempenho.\n",
    "- **Acurácia**: Embora mais comum em classificações, mede a proporção de previsões corretas. Não é usada diretamente em regressão, mas importante em outros tipos de modelos.\n",
    "\n",
    "## Autor\n",
    "[**Fernando Nonato**](https://github.com/Cyberfn)  \n",
    "<a href=\"https://github.com/Cyberfn\"><img src=\"https://github.com/Cyberfn.png\" width=\"150\" height=\"150\" /></a>"
   ]
  },
  {
   "cell_type": "markdown",
   "id": "831b46ac",
   "metadata": {
    "_cell_guid": "387a7489-ad51-4642-b5f7-3ff348b047a7",
    "_uuid": "9f9d7125-b1e3-419f-8fea-e55a3a5b7b37",
    "papermill": {
     "duration": 0.008617,
     "end_time": "2024-10-29T13:02:23.772816",
     "exception": false,
     "start_time": "2024-10-29T13:02:23.764199",
     "status": "completed"
    },
    "tags": []
   },
   "source": [
    "# 1 - Importando Bibliotecas Necessárias"
   ]
  },
  {
   "cell_type": "code",
   "execution_count": 1,
   "id": "8f0266cc",
   "metadata": {
    "_cell_guid": "50f695f2-5901-412a-9b43-47baadf90ac5",
    "_uuid": "fc78dd7e-e0c1-4eaa-9599-7ff303f877a3",
    "collapsed": false,
    "execution": {
     "iopub.execute_input": "2024-10-29T13:02:23.793234Z",
     "iopub.status.busy": "2024-10-29T13:02:23.792842Z",
     "iopub.status.idle": "2024-10-29T13:02:39.707552Z",
     "shell.execute_reply": "2024-10-29T13:02:39.706437Z"
    },
    "jupyter": {
     "outputs_hidden": false
    },
    "papermill": {
     "duration": 15.927412,
     "end_time": "2024-10-29T13:02:39.710048",
     "exception": false,
     "start_time": "2024-10-29T13:02:23.782636",
     "status": "completed"
    },
    "tags": []
   },
   "outputs": [],
   "source": [
    "import pandas as pd\n",
    "import numpy as np\n",
    "import matplotlib.pyplot as plt\n",
    "import seaborn as sns\n",
    "from tensorflow import keras\n",
    "from keras import layers, models\n",
    "from tensorflow.keras import layers\n",
    "from sklearn.model_selection import train_test_split\n",
    "from sklearn.linear_model import LinearRegression, LogisticRegression\n",
    "from sklearn.tree import DecisionTreeRegressor, DecisionTreeClassifier\n",
    "from sklearn.ensemble import RandomForestRegressor, RandomForestClassifier  \n",
    "from sklearn.svm import SVC, SVR\n",
    "from sklearn.neighbors import KNeighborsRegressor, KNeighborsClassifier\n",
    "from sklearn.metrics import mean_squared_error, r2_score, accuracy_score, classification_report, confusion_matrix\n",
    "from sklearn.preprocessing import StandardScaler\n",
    "from sklearn.cluster import KMeans\n",
    "from sklearn.metrics import silhouette_score, davies_bouldin_score, calinski_harabasz_score"
   ]
  },
  {
   "cell_type": "markdown",
   "id": "0d3bb069",
   "metadata": {
    "_cell_guid": "a931d273-ca6f-4930-8bbe-4d67a88e76b0",
    "_uuid": "46baa10c-f2ec-4900-8a98-fe95db4ee8ff",
    "papermill": {
     "duration": 0.009032,
     "end_time": "2024-10-29T13:02:39.732728",
     "exception": false,
     "start_time": "2024-10-29T13:02:39.723696",
     "status": "completed"
    },
    "tags": []
   },
   "source": [
    "# 2 - Carregando os Dados"
   ]
  },
  {
   "cell_type": "code",
   "execution_count": 2,
   "id": "f948b14b",
   "metadata": {
    "_cell_guid": "a0fe3af8-9a26-4232-b599-8b2047476c43",
    "_uuid": "586fa8b5-ce49-40fa-8027-526560566b68",
    "collapsed": false,
    "execution": {
     "iopub.execute_input": "2024-10-29T13:02:39.753008Z",
     "iopub.status.busy": "2024-10-29T13:02:39.752332Z",
     "iopub.status.idle": "2024-10-29T13:02:45.406495Z",
     "shell.execute_reply": "2024-10-29T13:02:45.405547Z"
    },
    "jupyter": {
     "outputs_hidden": false
    },
    "papermill": {
     "duration": 5.666935,
     "end_time": "2024-10-29T13:02:45.409004",
     "exception": false,
     "start_time": "2024-10-29T13:02:39.742069",
     "status": "completed"
    },
    "tags": []
   },
   "outputs": [],
   "source": [
    "df = pd.read_csv('../input/beerreviews/beer_reviews.csv')\n",
    "df2 = df.sample(frac=0.1, random_state=42)"
   ]
  },
  {
   "cell_type": "markdown",
   "id": "c2b45145",
   "metadata": {
    "_cell_guid": "33006946-808e-4a6f-b8ac-c64e44ca6acc",
    "_uuid": "f185cf87-bf2d-460e-b65e-e2ad61171803",
    "papermill": {
     "duration": 0.009084,
     "end_time": "2024-10-29T13:02:45.427538",
     "exception": false,
     "start_time": "2024-10-29T13:02:45.418454",
     "status": "completed"
    },
    "tags": []
   },
   "source": [
    "# 3 - Visualização de Dados das Avaliações de Cervejas"
   ]
  },
  {
   "cell_type": "code",
   "execution_count": 3,
   "id": "ffab36c0",
   "metadata": {
    "_cell_guid": "9342fd14-8fa0-4a56-bffb-aaaf3e96aaf2",
    "_uuid": "e495be66-17e0-44df-a6d0-13c048753ea7",
    "collapsed": false,
    "execution": {
     "iopub.execute_input": "2024-10-29T13:02:45.446598Z",
     "iopub.status.busy": "2024-10-29T13:02:45.446181Z",
     "iopub.status.idle": "2024-10-29T13:02:45.850969Z",
     "shell.execute_reply": "2024-10-29T13:02:45.849899Z"
    },
    "jupyter": {
     "outputs_hidden": false
    },
    "papermill": {
     "duration": 0.416768,
     "end_time": "2024-10-29T13:02:45.853085",
     "exception": false,
     "start_time": "2024-10-29T13:02:45.436317",
     "status": "completed"
    },
    "tags": []
   },
   "outputs": [
    {
     "data": {
      "image/png": "[encoded data removed]",
      "text/plain": [
       "<Figure size 800x600 with 2 Axes>"
      ]
     },
     "metadata": {},
     "output_type": "display_data"
    }
   ],
   "source": [
    "# Heatmap - Correlação entre as avaliações\n",
    "corr = df2[['review_aroma', 'review_appearance', 'review_palate', 'review_taste', 'review_overall']].corr()\n",
    "plt.figure(figsize=(8, 6))\n",
    "sns.heatmap(corr, annot=True, cmap='coolwarm')\n",
    "plt.title('Correlação entre as Avaliações')\n",
    "plt.show()"
   ]
  },
  {
   "cell_type": "markdown",
   "id": "26092236",
   "metadata": {
    "_cell_guid": "be9f3d1d-26fd-432e-aeb5-19ae9d143955",
    "_uuid": "1bc51e97-0c68-4a00-bd1c-eb1b478a1ac7",
    "papermill": {
     "duration": 0.009839,
     "end_time": "2024-10-29T13:02:45.873367",
     "exception": false,
     "start_time": "2024-10-29T13:02:45.863528",
     "status": "completed"
    },
    "tags": []
   },
   "source": [
    "# 4 - Selecionando Características e Alvo"
   ]
  },
  {
   "cell_type": "code",
   "execution_count": 4,
   "id": "b9064411",
   "metadata": {
    "_cell_guid": "8d2165f5-2d56-4676-b898-a41fc4b6eb19",
    "_uuid": "2ad839cb-0aec-43fa-ad31-0c039ed4783b",
    "collapsed": false,
    "execution": {
     "iopub.execute_input": "2024-10-29T13:02:45.896273Z",
     "iopub.status.busy": "2024-10-29T13:02:45.895845Z",
     "iopub.status.idle": "2024-10-29T13:02:45.902172Z",
     "shell.execute_reply": "2024-10-29T13:02:45.901263Z"
    },
    "jupyter": {
     "outputs_hidden": false
    },
    "papermill": {
     "duration": 0.020577,
     "end_time": "2024-10-29T13:02:45.904311",
     "exception": false,
     "start_time": "2024-10-29T13:02:45.883734",
     "status": "completed"
    },
    "tags": []
   },
   "outputs": [],
   "source": [
    "features = df2[['review_aroma', 'review_appearance', 'review_palate', 'review_taste']]\n",
    "target = df2['review_overall']"
   ]
  },
  {
   "cell_type": "markdown",
   "id": "f59577f5",
   "metadata": {
    "_cell_guid": "f2e98751-ac39-41e8-8406-de25bb08d53f",
    "_uuid": "bdd3cdc1-978e-40f1-acdb-9b0254974684",
    "papermill": {
     "duration": 0.009603,
     "end_time": "2024-10-29T13:02:45.924349",
     "exception": false,
     "start_time": "2024-10-29T13:02:45.914746",
     "status": "completed"
    },
    "tags": []
   },
   "source": [
    "# 5 - Convertendo para datetime"
   ]
  },
  {
   "cell_type": "code",
   "execution_count": 5,
   "id": "6ea3a032",
   "metadata": {
    "_cell_guid": "60a5a946-0f40-4348-ab34-66be2a4e4b7b",
    "_uuid": "952da54c-f139-46e7-95d4-548b4c3b23cb",
    "collapsed": false,
    "execution": {
     "iopub.execute_input": "2024-10-29T13:02:45.946036Z",
     "iopub.status.busy": "2024-10-29T13:02:45.945089Z",
     "iopub.status.idle": "2024-10-29T13:02:45.969587Z",
     "shell.execute_reply": "2024-10-29T13:02:45.968545Z"
    },
    "jupyter": {
     "outputs_hidden": false
    },
    "papermill": {
     "duration": 0.037912,
     "end_time": "2024-10-29T13:02:45.971959",
     "exception": false,
     "start_time": "2024-10-29T13:02:45.934047",
     "status": "completed"
    },
    "tags": []
   },
   "outputs": [],
   "source": [
    "df2['review_time'] = pd.to_datetime(df2['review_time'], unit='s')"
   ]
  },
  {
   "cell_type": "markdown",
   "id": "781e65bc",
   "metadata": {
    "_cell_guid": "995b7258-6916-48f9-8ec8-ca374fd5703f",
    "_uuid": "de400c42-c924-41a2-9abb-69219572f50e",
    "papermill": {
     "duration": 0.009583,
     "end_time": "2024-10-29T13:02:45.992715",
     "exception": false,
     "start_time": "2024-10-29T13:02:45.983132",
     "status": "completed"
    },
    "tags": []
   },
   "source": [
    "# 6 - Dividindo os Dados"
   ]
  },
  {
   "cell_type": "code",
   "execution_count": 6,
   "id": "e302f7dd",
   "metadata": {
    "_cell_guid": "b4b1f32a-246c-4ad1-944a-7108c6d77eb6",
    "_uuid": "236a169d-02fc-4701-8476-ee892ed9c9af",
    "collapsed": false,
    "execution": {
     "iopub.execute_input": "2024-10-29T13:02:46.015525Z",
     "iopub.status.busy": "2024-10-29T13:02:46.014620Z",
     "iopub.status.idle": "2024-10-29T13:02:46.032286Z",
     "shell.execute_reply": "2024-10-29T13:02:46.031286Z"
    },
    "jupyter": {
     "outputs_hidden": false
    },
    "papermill": {
     "duration": 0.031823,
     "end_time": "2024-10-29T13:02:46.034748",
     "exception": false,
     "start_time": "2024-10-29T13:02:46.002925",
     "status": "completed"
    },
    "tags": []
   },
   "outputs": [],
   "source": [
    "X_train, X_test, y_train, y_test = train_test_split(features, target, test_size=0.2, random_state=42)"
   ]
  },
  {
   "cell_type": "code",
   "execution_count": 7,
   "id": "37a0500e",
   "metadata": {
    "_cell_guid": "7609184a-8a8e-4b57-a4e3-67f9cd310ded",
    "_uuid": "856f223d-8ad0-452b-8225-1517d54f39ed",
    "collapsed": false,
    "execution": {
     "iopub.execute_input": "2024-10-29T13:02:46.056305Z",
     "iopub.status.busy": "2024-10-29T13:02:46.055379Z",
     "iopub.status.idle": "2024-10-29T13:02:46.073984Z",
     "shell.execute_reply": "2024-10-29T13:02:46.072971Z"
    },
    "jupyter": {
     "outputs_hidden": false
    },
    "papermill": {
     "duration": 0.031962,
     "end_time": "2024-10-29T13:02:46.076486",
     "exception": false,
     "start_time": "2024-10-29T13:02:46.044524",
     "status": "completed"
    },
    "tags": []
   },
   "outputs": [],
   "source": [
    "# Treinando modelo em binário\n",
    "target_binary = (target > 3.0).astype(int)\n",
    "X_train_logistic, X_test_logistic, y_train_logistic, y_test_logistic = train_test_split(features, target_binary, test_size=0.2, random_state=42)"
   ]
  },
  {
   "cell_type": "markdown",
   "id": "d676d9b3",
   "metadata": {
    "_cell_guid": "68a2eae7-0645-4579-83a2-5eec6215edb9",
    "_uuid": "2ba31b0a-72b6-4f9e-ab74-b62afb62ac80",
    "papermill": {
     "duration": 0.009435,
     "end_time": "2024-10-29T13:02:46.095746",
     "exception": false,
     "start_time": "2024-10-29T13:02:46.086311",
     "status": "completed"
    },
    "tags": []
   },
   "source": [
    "# 7 - Modelos de Aprendizagem de Máquina Supervisionado"
   ]
  },
  {
   "cell_type": "markdown",
   "id": "8abaab9e",
   "metadata": {
    "_cell_guid": "3d319630-114c-4c66-980a-1abcd36bf2c6",
    "_uuid": "6d69efb5-e453-4f49-88a5-b91e405cfdcb",
    "papermill": {
     "duration": 0.009375,
     "end_time": "2024-10-29T13:02:46.114717",
     "exception": false,
     "start_time": "2024-10-29T13:02:46.105342",
     "status": "completed"
    },
    "tags": []
   },
   "source": [
    "## 7.1 - Regressão Linear\n",
    "A Regressão Linear é um método de aprendizado supervisionado utilizado para prever valores contínuos. Ele estabelece uma relação linear entre as variáveis independentes (features) e a variável dependente (target). No nosso caso, a regressão linear tenta prever a nota geral da cerveja (review_overall) com base nas características sensoriais (review_taste)."
   ]
  },
  {
   "cell_type": "code",
   "execution_count": 8,
   "id": "fa141d3f",
   "metadata": {
    "_cell_guid": "195c1184-a41d-4755-8368-40d97d7088b8",
    "_uuid": "e436c07d-5eb0-483e-9ab5-363a9cfac864",
    "collapsed": false,
    "execution": {
     "iopub.execute_input": "2024-10-29T13:02:46.135880Z",
     "iopub.status.busy": "2024-10-29T13:02:46.135501Z",
     "iopub.status.idle": "2024-10-29T13:02:46.200814Z",
     "shell.execute_reply": "2024-10-29T13:02:46.199559Z"
    },
    "jupyter": {
     "outputs_hidden": false
    },
    "papermill": {
     "duration": 0.079505,
     "end_time": "2024-10-29T13:02:46.203900",
     "exception": false,
     "start_time": "2024-10-29T13:02:46.124395",
     "status": "completed"
    },
    "tags": []
   },
   "outputs": [
    {
     "name": "stdout",
     "output_type": "stream",
     "text": [
      "Regressão Linear - MSE: 0.18, R²: 0.66, Acurácia: 0.77 \n",
      "\n"
     ]
    }
   ],
   "source": [
    "linear_model = LinearRegression()\n",
    "linear_model.fit(X_train, y_train)\n",
    "linear_predictions = linear_model.predict(X_test)\n",
    "\n",
    "# Avaliando desempenho\n",
    "linear_mse = mean_squared_error(y_test, linear_predictions)\n",
    "linear_r2 = r2_score(y_test, linear_predictions)\n",
    "linear_accuracy = accuracy_score(np.round(y_test).astype(int), np.round(linear_predictions).astype(int))\n",
    "\n",
    "print(f'Regressão Linear - MSE: {linear_mse:.2f}, R²: {linear_r2:.2f}, Acurácia: {linear_accuracy:.2f} \\n')"
   ]
  },
  {
   "cell_type": "markdown",
   "id": "10370812",
   "metadata": {
    "_cell_guid": "dbfa8a67-6fcf-4a56-8462-5c13b2657452",
    "_uuid": "d8ce3bec-ee08-4df0-9957-44ab70200c50",
    "papermill": {
     "duration": 0.016265,
     "end_time": "2024-10-29T13:02:46.236944",
     "exception": false,
     "start_time": "2024-10-29T13:02:46.220679",
     "status": "completed"
    },
    "tags": []
   },
   "source": [
    "## 7.2 - Regressão Logística\n",
    "A Regressão Logística é usada para problemas de classificação binária. Neste exemplo, estamos prevendo se a nota geral da cerveja é maior que 3, ou seja, transformamos a variável alvo (review_overall) em 0 ou 1, onde 1 indica uma nota positiva (> 3) e 0 uma nota negativa (≤ 3). A regressão logística calcula a probabilidade de um evento pertencente a uma classe específica."
   ]
  },
  {
   "cell_type": "code",
   "execution_count": 9,
   "id": "56d2b545",
   "metadata": {
    "_cell_guid": "0165bfc4-d850-4dd1-a75f-26e645c821d4",
    "_uuid": "09563871-9e1d-441b-b7ce-aab7c1805e42",
    "collapsed": false,
    "execution": {
     "iopub.execute_input": "2024-10-29T13:02:46.273010Z",
     "iopub.status.busy": "2024-10-29T13:02:46.272457Z",
     "iopub.status.idle": "2024-10-29T13:02:46.638349Z",
     "shell.execute_reply": "2024-10-29T13:02:46.637260Z"
    },
    "jupyter": {
     "outputs_hidden": false
    },
    "papermill": {
     "duration": 0.387581,
     "end_time": "2024-10-29T13:02:46.641404",
     "exception": false,
     "start_time": "2024-10-29T13:02:46.253823",
     "status": "completed"
    },
    "tags": []
   },
   "outputs": [
    {
     "name": "stdout",
     "output_type": "stream",
     "text": [
      "Regressão Logística - MSE: 0.09, R²: 0.39, Acurácia: 0.91\n",
      "\n"
     ]
    }
   ],
   "source": [
    "logistic_model = LogisticRegression(max_iter=1000)\n",
    "logistic_model.fit(X_train_logistic, y_train_logistic)\n",
    "logistic_predictions = logistic_model.predict(X_test_logistic)\n",
    "\n",
    "# Avaliando desempenho\n",
    "logistic_mse = mean_squared_error(y_test_logistic, logistic_predictions)\n",
    "logistic_r2 = r2_score(y_test_logistic, logistic_predictions)\n",
    "logistic_accuracy = accuracy_score(y_test_logistic, logistic_predictions)\n",
    "\n",
    "print(f'Regressão Logística - MSE: {logistic_mse:.2f}, R²: {logistic_r2:.2f}, Acurácia: {logistic_accuracy:.2f}\\n')"
   ]
  },
  {
   "cell_type": "markdown",
   "id": "ed0137e3",
   "metadata": {
    "_cell_guid": "4676b4ce-b200-4194-a5dd-535e9b84c08f",
    "_uuid": "fffd03b6-7465-43fc-9e4d-d2aaef6ddc17",
    "papermill": {
     "duration": 0.016346,
     "end_time": "2024-10-29T13:02:46.674521",
     "exception": false,
     "start_time": "2024-10-29T13:02:46.658175",
     "status": "completed"
    },
    "tags": []
   },
   "source": [
    "## 7.3 - Decision Tree\n",
    "O Decision Tree Regressor cria uma árvore de decisão para prever valores contínuos. Ele divide o conjunto de dados em subconjuntos com base nas características que melhor explicam a variável alvo, construindo uma árvore com nós que representam as decisões."
   ]
  },
  {
   "cell_type": "code",
   "execution_count": 10,
   "id": "ecef5e24",
   "metadata": {
    "_cell_guid": "342df6bb-ad8c-4dd5-a584-601c03fae217",
    "_uuid": "1d5112a7-ad3a-48c1-a26e-c484d29e946f",
    "collapsed": false,
    "execution": {
     "iopub.execute_input": "2024-10-29T13:02:46.710422Z",
     "iopub.status.busy": "2024-10-29T13:02:46.709860Z",
     "iopub.status.idle": "2024-10-29T13:02:46.816085Z",
     "shell.execute_reply": "2024-10-29T13:02:46.815089Z"
    },
    "jupyter": {
     "outputs_hidden": false
    },
    "papermill": {
     "duration": 0.127144,
     "end_time": "2024-10-29T13:02:46.818429",
     "exception": false,
     "start_time": "2024-10-29T13:02:46.691285",
     "status": "completed"
    },
    "tags": []
   },
   "outputs": [
    {
     "name": "stdout",
     "output_type": "stream",
     "text": [
      "Decision Tree Regressor - MSE: 0.18, R²: 0.65, Acurácia: 0.78\n",
      "\n"
     ]
    }
   ],
   "source": [
    "decision_tree_model = DecisionTreeRegressor(random_state=42)\n",
    "decision_tree_model.fit(X_train, y_train)\n",
    "decision_tree_predictions = decision_tree_model.predict(X_test)\n",
    "\n",
    "# Avaliando desempenho\n",
    "decision_tree_mse = mean_squared_error(y_test, decision_tree_predictions)\n",
    "decision_tree_r2 = r2_score(y_test, decision_tree_predictions)\n",
    "decision_tree_accuracy = accuracy_score(np.round(y_test).astype(int), np.round(decision_tree_predictions).astype(int))\n",
    "\n",
    "print(f\"Decision Tree Regressor - MSE: {decision_tree_mse:.2f}, R²: {decision_tree_r2:.2f}, Acurácia: {decision_tree_accuracy:.2f}\\n\")"
   ]
  },
  {
   "cell_type": "markdown",
   "id": "af779f80",
   "metadata": {
    "_cell_guid": "e1bf4d64-6982-4961-ac12-c07d6a34791c",
    "_uuid": "7f2f53cf-00ed-414a-99e8-1d461a1ca874",
    "papermill": {
     "duration": 0.009725,
     "end_time": "2024-10-29T13:02:46.838242",
     "exception": false,
     "start_time": "2024-10-29T13:02:46.828517",
     "status": "completed"
    },
    "tags": []
   },
   "source": [
    "## 7.3.2 - Decision Tree Classifier\n",
    "O Decision Tree Classifier é um modelo de árvore de decisão para problemas de classificação. Ele divide os dados em nós que representam decisões binárias para prever classes (neste caso, a classificação binária da nota geral)."
   ]
  },
  {
   "cell_type": "code",
   "execution_count": 11,
   "id": "b1cf597d",
   "metadata": {
    "_cell_guid": "6413a508-ea62-4a3c-97a4-789ab003e628",
    "_uuid": "b06bf9e5-f3e7-423e-bcbe-47b93e2a08bd",
    "collapsed": false,
    "execution": {
     "iopub.execute_input": "2024-10-29T13:02:46.860179Z",
     "iopub.status.busy": "2024-10-29T13:02:46.859260Z",
     "iopub.status.idle": "2024-10-29T13:02:47.044186Z",
     "shell.execute_reply": "2024-10-29T13:02:47.043014Z"
    },
    "jupyter": {
     "outputs_hidden": false
    },
    "papermill": {
     "duration": 0.198361,
     "end_time": "2024-10-29T13:02:47.046491",
     "exception": false,
     "start_time": "2024-10-29T13:02:46.848130",
     "status": "completed"
    },
    "tags": []
   },
   "outputs": [
    {
     "name": "stdout",
     "output_type": "stream",
     "text": [
      "Decision Tree Classifier - MSE: 9.15, Acurácia: 0.91\n",
      "\n"
     ]
    }
   ],
   "source": [
    "decision_tree_classifier = DecisionTreeClassifier(random_state=42)\n",
    "decision_tree_classifier.fit(X_train_logistic, y_train_logistic)\n",
    "\n",
    "# Fazendo previsões\n",
    "decision_tree_predictions = decision_tree_classifier.predict(X_test_logistic)\n",
    "\n",
    "# Avaliando o desempenho\n",
    "decision_tree_mse = mean_squared_error(y_test, decision_tree_predictions)\n",
    "decision_tree_accuracy = accuracy_score(y_test_logistic, decision_tree_predictions)\n",
    "\n",
    "\n",
    "print(f\"Decision Tree Classifier - MSE: {decision_tree_mse:.2f}, Acurácia: {decision_tree_accuracy:.2f}\\n\")"
   ]
  },
  {
   "cell_type": "markdown",
   "id": "0c2c3eb8",
   "metadata": {
    "_cell_guid": "7fb404cf-0518-49eb-9c5b-1d0b8a106aeb",
    "_uuid": "41fba967-bc13-4a95-98bd-bf1576908367",
    "papermill": {
     "duration": 0.009954,
     "end_time": "2024-10-29T13:02:47.066380",
     "exception": false,
     "start_time": "2024-10-29T13:02:47.056426",
     "status": "completed"
    },
    "tags": []
   },
   "source": [
    "## 7.4 - Random Forest\n",
    "O Random Forest é uma técnica que combina múltiplas árvores de decisão (tanto regressão quanto classificação). Ele gera várias árvores de decisão e as combina para melhorar a precisão e reduzir o risco de overfitting. No caso de regressão, a média das previsões de todas as árvores é considerada a previsão final; para classificação, a classe mais votada é a previsão."
   ]
  },
  {
   "cell_type": "code",
   "execution_count": 12,
   "id": "5d291e8e",
   "metadata": {
    "_cell_guid": "fadf3575-ee57-4f42-9ea9-66311ea0cb06",
    "_uuid": "efb17678-8cf7-4ba1-9665-586a041bd2aa",
    "collapsed": false,
    "execution": {
     "iopub.execute_input": "2024-10-29T13:02:47.088616Z",
     "iopub.status.busy": "2024-10-29T13:02:47.088149Z",
     "iopub.status.idle": "2024-10-29T13:02:52.789789Z",
     "shell.execute_reply": "2024-10-29T13:02:52.788641Z"
    },
    "jupyter": {
     "outputs_hidden": false
    },
    "papermill": {
     "duration": 5.71537,
     "end_time": "2024-10-29T13:02:52.792001",
     "exception": false,
     "start_time": "2024-10-29T13:02:47.076631",
     "status": "completed"
    },
    "tags": []
   },
   "outputs": [
    {
     "name": "stdout",
     "output_type": "stream",
     "text": [
      "Random Forest Regressor - MSE: 0.18, R²: 0.66, Acurácia: 0.78 \n",
      "\n"
     ]
    }
   ],
   "source": [
    "random_forest_model = RandomForestRegressor(random_state=42)\n",
    "random_forest_model.fit(X_train, y_train)\n",
    "random_forest_predictions = random_forest_model.predict(X_test)\n",
    "\n",
    "# Avaliando desempenho\n",
    "random_forest_mse = mean_squared_error(y_test, random_forest_predictions)\n",
    "random_forest_r2 = r2_score(y_test, random_forest_predictions)\n",
    "random_forest_accuracy = accuracy_score(np.round(y_test).astype(int), np.round(random_forest_predictions).astype(int))\n",
    "\n",
    "print(f'Random Forest Regressor - MSE: {random_forest_mse:.2f}, R²: {random_forest_r2:.2f}, Acurácia: {random_forest_accuracy:.2f} \\n')"
   ]
  },
  {
   "cell_type": "markdown",
   "id": "652ff61b",
   "metadata": {
    "_cell_guid": "8418bcd3-6171-425d-b8e5-596cd6022b69",
    "_uuid": "1c1b0d3b-c184-41dd-b436-b205ec4ecf11",
    "papermill": {
     "duration": 0.009926,
     "end_time": "2024-10-29T13:02:52.812076",
     "exception": false,
     "start_time": "2024-10-29T13:02:52.802150",
     "status": "completed"
    },
    "tags": []
   },
   "source": [
    "## 7.4.2 - Random Forest Classifier\n",
    "O Random Forest Classifier é um modelo de aprendizado supervisionado que utiliza uma combinação de várias árvores de decisão para problemas de classificação. Cada árvore é treinada em uma amostra aleatória dos dados, e a classificação final é determinada pelo voto da maioria das árvores. Isso ajuda a melhorar a precisão e reduzir o risco de overfitting, pois a média de várias árvores tende a generalizar melhor do que uma única árvore de decisão."
   ]
  },
  {
   "cell_type": "code",
   "execution_count": 13,
   "id": "5c028c08",
   "metadata": {
    "_cell_guid": "4a997bd8-4ed7-4b7b-a88d-c644381fe3c0",
    "_uuid": "c005516f-3ac7-4d0b-b85e-553fd7403954",
    "collapsed": false,
    "execution": {
     "iopub.execute_input": "2024-10-29T13:02:52.834142Z",
     "iopub.status.busy": "2024-10-29T13:02:52.833771Z",
     "iopub.status.idle": "2024-10-29T13:03:01.789976Z",
     "shell.execute_reply": "2024-10-29T13:03:01.788764Z"
    },
    "jupyter": {
     "outputs_hidden": false
    },
    "papermill": {
     "duration": 8.969887,
     "end_time": "2024-10-29T13:03:01.792288",
     "exception": false,
     "start_time": "2024-10-29T13:02:52.822401",
     "status": "completed"
    },
    "tags": []
   },
   "outputs": [
    {
     "name": "stdout",
     "output_type": "stream",
     "text": [
      "Random Forest Classifier - MSE: 9.12, Acurácia: 0.91 \n",
      "\n"
     ]
    }
   ],
   "source": [
    "random_forest_classifier = RandomForestClassifier(random_state=42)\n",
    "random_forest_classifier.fit(X_train_logistic, y_train_logistic)\n",
    "random_forest_classifier_predictions = random_forest_classifier.predict(X_test_logistic)\n",
    "\n",
    "random_forest_classifier_mse = mean_squared_error(y_test, random_forest_classifier_predictions)\n",
    "random_forest_classifier_accuracy = accuracy_score(y_test_logistic, random_forest_classifier_predictions)\n",
    "\n",
    "print(f'Random Forest Classifier - MSE: {random_forest_classifier_mse:.2f}, Acurácia: {random_forest_classifier_accuracy:.2f} \\n')"
   ]
  },
  {
   "cell_type": "markdown",
   "id": "d540620e",
   "metadata": {
    "_cell_guid": "103aba23-0d7b-47e8-aad6-227f4a5ad14d",
    "_uuid": "de8f233a-1be6-43f7-b35b-6d68f0a5231d",
    "papermill": {
     "duration": 0.01059,
     "end_time": "2024-10-29T13:03:01.813136",
     "exception": false,
     "start_time": "2024-10-29T13:03:01.802546",
     "status": "completed"
    },
    "tags": []
   },
   "source": [
    "## 7.5 - K-Nearest Neighbors (KNN) Regressor\n",
    "\n",
    "O K-Nearest Neighbors Regressor (KNN Regressor) é uma extensão do algoritmo KNN para problemas de regressão. Em vez de classificar os dados, ele prevê valores contínuos com base nos k vizinhos mais próximos. O valor previsto é geralmente a média dos valores-alvo dos k pontos de dados mais próximos. O KNN Regressor é simples e pode ser muito eficaz em certos problemas, mas pode sofrer com a dimensionalidade e com o tempo de computação em grandes conjuntos de dados."
   ]
  },
  {
   "cell_type": "code",
   "execution_count": 14,
   "id": "24ac14a1",
   "metadata": {
    "_cell_guid": "b421db31-86a0-4775-b53c-5915d6130ac2",
    "_uuid": "2b2f32ab-276f-479a-8c9f-b46d90e1433a",
    "collapsed": false,
    "execution": {
     "iopub.execute_input": "2024-10-29T13:03:01.848046Z",
     "iopub.status.busy": "2024-10-29T13:03:01.847193Z",
     "iopub.status.idle": "2024-10-29T13:03:03.859722Z",
     "shell.execute_reply": "2024-10-29T13:03:03.858574Z"
    },
    "jupyter": {
     "outputs_hidden": false
    },
    "papermill": {
     "duration": 2.033038,
     "end_time": "2024-10-29T13:03:03.861913",
     "exception": false,
     "start_time": "2024-10-29T13:03:01.828875",
     "status": "completed"
    },
    "tags": []
   },
   "outputs": [
    {
     "name": "stdout",
     "output_type": "stream",
     "text": [
      "KNN - MSE: 0.20, R²: 0.61, Acurácia: 0.78 \n",
      "\n"
     ]
    }
   ],
   "source": [
    "knn_model = KNeighborsRegressor(n_neighbors=5)\n",
    "knn_model.fit(X_train, y_train)\n",
    "knn_predictions = knn_model.predict(X_test)\n",
    "\n",
    "# Avaliando desempenho\n",
    "knn_mse = mean_squared_error(y_test, knn_predictions)\n",
    "knn_r2 = r2_score(y_test, knn_predictions)\n",
    "knn_accuracy = accuracy_score(np.round(y_test).astype(int), np.round(knn_predictions).astype(int))\n",
    "\n",
    "print(f'KNN - MSE: {knn_mse:.2f}, R²: {knn_r2:.2f}, Acurácia: {knn_accuracy:.2f} \\n')"
   ]
  },
  {
   "cell_type": "markdown",
   "id": "6c8a9b20",
   "metadata": {
    "_cell_guid": "702f5426-9500-4d58-9382-2f9f16bf0768",
    "_uuid": "c5f8b8fb-4ee4-4c02-9dd8-edcdde138760",
    "papermill": {
     "duration": 0.010062,
     "end_time": "2024-10-29T13:03:03.882175",
     "exception": false,
     "start_time": "2024-10-29T13:03:03.872113",
     "status": "completed"
    },
    "tags": []
   },
   "source": [
    "## 7.5.2 - K-Nearest Neighbors (KNN) Classifier\n",
    "O K-Nearest Neighbors (KNN) é um método de classificação simples e intuitivo, onde as previsões são feitas com base nas k amostras mais próximas do ponto de dados alvo. Para problemas de classificação, ele atribui a classe mais comum entre os vizinhos mais próximos. É uma abordagem baseada em distâncias, o que significa que a distância entre os pontos é essencial para determinar a classe."
   ]
  },
  {
   "cell_type": "code",
   "execution_count": 15,
   "id": "d4df77b8",
   "metadata": {
    "_cell_guid": "939b86ca-c7d4-443c-bcec-cd84dbbeb31f",
    "_uuid": "daeae48a-e4ed-43d6-921f-a0aa72c94b54",
    "collapsed": false,
    "execution": {
     "iopub.execute_input": "2024-10-29T13:03:03.904977Z",
     "iopub.status.busy": "2024-10-29T13:03:03.904074Z",
     "iopub.status.idle": "2024-10-29T13:03:07.163434Z",
     "shell.execute_reply": "2024-10-29T13:03:07.162381Z"
    },
    "jupyter": {
     "outputs_hidden": false
    },
    "papermill": {
     "duration": 3.273327,
     "end_time": "2024-10-29T13:03:07.165814",
     "exception": false,
     "start_time": "2024-10-29T13:03:03.892487",
     "status": "completed"
    },
    "tags": []
   },
   "outputs": [
    {
     "name": "stdout",
     "output_type": "stream",
     "text": [
      "Acurácia: 0.90 \n",
      "\n"
     ]
    }
   ],
   "source": [
    "knn_classifier = KNeighborsClassifier(n_neighbors=5)\n",
    "knn_classifier.fit(X_train_logistic, y_train_logistic)\n",
    "knn_classifier_predictions = knn_classifier.predict(X_test_logistic)\n",
    "\n",
    "knn_classifier_accuracy = accuracy_score(y_test_logistic, knn_classifier_predictions)\n",
    "\n",
    "print(f'Acurácia: {knn_classifier_accuracy:.2f} \\n')"
   ]
  },
  {
   "cell_type": "markdown",
   "id": "57549714",
   "metadata": {
    "_cell_guid": "4422f840-dc8a-4111-8e13-d5ee676652cc",
    "_uuid": "dba823a0-7dc6-4b02-a5d3-6c3fa73d2d07",
    "papermill": {
     "duration": 0.010424,
     "end_time": "2024-10-29T13:03:07.187246",
     "exception": false,
     "start_time": "2024-10-29T13:03:07.176822",
     "status": "completed"
    },
    "tags": []
   },
   "source": [
    "## 7.6 - Support Vector Classifier (SVC)\n",
    "O Support Vector Classifier (SVC) é um modelo supervisionado que tenta encontrar um hiperplano em um espaço multidimensional que separa as classes da melhor forma possível. Ele maximiza a margem entre os pontos de dados mais próximos de ambas as classes (os \"vetores de suporte\"). O SVC é poderoso em dados com alta dimensionalidade, mas pode não funcionar bem em dados com muitas sobreposições de classe."
   ]
  },
  {
   "cell_type": "code",
   "execution_count": 16,
   "id": "7573ea20",
   "metadata": {
    "_cell_guid": "76b95538-f1ea-4998-8b8a-b4a993d50398",
    "_uuid": "f35a5299-6c80-4899-8c72-7e2acbe5fc1e",
    "collapsed": false,
    "execution": {
     "iopub.execute_input": "2024-10-29T13:03:07.210266Z",
     "iopub.status.busy": "2024-10-29T13:03:07.209359Z",
     "iopub.status.idle": "2024-10-29T13:15:12.712144Z",
     "shell.execute_reply": "2024-10-29T13:15:12.711058Z"
    },
    "jupyter": {
     "outputs_hidden": false
    },
    "papermill": {
     "duration": 725.526719,
     "end_time": "2024-10-29T13:15:12.724391",
     "exception": false,
     "start_time": "2024-10-29T13:03:07.197672",
     "status": "completed"
    },
    "tags": []
   },
   "outputs": [
    {
     "name": "stdout",
     "output_type": "stream",
     "text": [
      "Acurácia: 0.91 \n",
      "\n"
     ]
    }
   ],
   "source": [
    "svc_model = SVC()\n",
    "svc_model.fit(X_train_logistic, y_train_logistic)\n",
    "svc_predictions = svc_model.predict(X_test_logistic)\n",
    "\n",
    "svc_accuracy = accuracy_score(y_test_logistic, svc_predictions)\n",
    "\n",
    "print(f'Acurácia: {svc_accuracy:.2f} \\n')"
   ]
  },
  {
   "cell_type": "markdown",
   "id": "cb7a1bc2",
   "metadata": {
    "_cell_guid": "0ed54cbe-4eee-4716-aed9-3a86657f090d",
    "_uuid": "4e7df7c8-a8d1-40a6-bdff-fdcbcf41178c",
    "papermill": {
     "duration": 0.010147,
     "end_time": "2024-10-29T13:15:12.744988",
     "exception": false,
     "start_time": "2024-10-29T13:15:12.734841",
     "status": "completed"
    },
    "tags": []
   },
   "source": [
    "# 8 - Comparação e Seleção do Melhor Modelo"
   ]
  },
  {
   "cell_type": "code",
   "execution_count": 17,
   "id": "fd90c97f",
   "metadata": {
    "_cell_guid": "89ae7681-ef51-46fd-9129-4cb4e9e10da4",
    "_uuid": "e1f8c5e8-62d2-4765-b552-e4560816d62a",
    "collapsed": false,
    "execution": {
     "iopub.execute_input": "2024-10-29T13:15:12.768126Z",
     "iopub.status.busy": "2024-10-29T13:15:12.767171Z",
     "iopub.status.idle": "2024-10-29T13:15:12.773851Z",
     "shell.execute_reply": "2024-10-29T13:15:12.772792Z"
    },
    "jupyter": {
     "outputs_hidden": false
    },
    "papermill": {
     "duration": 0.020774,
     "end_time": "2024-10-29T13:15:12.776153",
     "exception": false,
     "start_time": "2024-10-29T13:15:12.755379",
     "status": "completed"
    },
    "tags": []
   },
   "outputs": [
    {
     "name": "stdout",
     "output_type": "stream",
     "text": [
      "Melhor modelo: Regressão Logística com acurácia de 0.91\n",
      "\n"
     ]
    }
   ],
   "source": [
    "model_accuracies = {\n",
    "    \"Regressão Linear\": linear_accuracy,\n",
    "    \"Regressão Logística\": logistic_accuracy,\n",
    "    \"Decision Tree Regressor\": decision_tree_accuracy,\n",
    "    \"Decision Tree Classifier\": decision_tree_accuracy,\n",
    "    \"Random Forest Regressor\": random_forest_accuracy,\n",
    "    \"Random Forest Classifier\": random_forest_classifier_accuracy,\n",
    "    \"KNN Regressor\": knn_accuracy,\n",
    "    \"KNN Classifier\": knn_accuracy,\n",
    "}\n",
    "\n",
    "# Selecionando o modelo com maior acurácia\n",
    "best_model_name = max(model_accuracies, key=model_accuracies.get)\n",
    "print(f\"Melhor modelo: {best_model_name} com acurácia de {model_accuracies[best_model_name]:.2f}\\n\")"
   ]
  },
  {
   "cell_type": "markdown",
   "id": "12f14a2a",
   "metadata": {
    "papermill": {
     "duration": 0.010165,
     "end_time": "2024-10-29T13:15:12.796996",
     "exception": false,
     "start_time": "2024-10-29T13:15:12.786831",
     "status": "completed"
    },
    "tags": []
   },
   "source": [
    "# 9 - Realizando Previsões"
   ]
  },
  {
   "cell_type": "code",
   "execution_count": 18,
   "id": "4b834fa0",
   "metadata": {
    "execution": {
     "iopub.execute_input": "2024-10-29T13:15:12.819971Z",
     "iopub.status.busy": "2024-10-29T13:15:12.819133Z",
     "iopub.status.idle": "2024-10-29T13:15:12.831070Z",
     "shell.execute_reply": "2024-10-29T13:15:12.829678Z"
    },
    "papermill": {
     "duration": 0.026573,
     "end_time": "2024-10-29T13:15:12.833954",
     "exception": false,
     "start_time": "2024-10-29T13:15:12.807381",
     "status": "completed"
    },
    "tags": []
   },
   "outputs": [
    {
     "name": "stdout",
     "output_type": "stream",
     "text": [
      "Previsão para review_overall: 4.0\n"
     ]
    },
    {
     "name": "stderr",
     "output_type": "stream",
     "text": [
      "/opt/conda/lib/python3.10/site-packages/sklearn/base.py:439: UserWarning: X does not have valid feature names, but LinearRegression was fitted with feature names\n",
      "  warnings.warn(\n"
     ]
    }
   ],
   "source": [
    "# Exemplo do conjunto de dados de entrada\n",
    "input_data = [1.5, 3, 5, 4]  # Dados de exemplo para review_aroma, review_appearance, review_palate, review_taste\n",
    "\n",
    "# Convertendo o array para o formato esperado pelo modelo (1 linha, 4 colunas)\n",
    "input_data = np.array(input_data).reshape(1, -1)\n",
    "\n",
    "# Realizando a previsão\n",
    "predicted_overall = linear_model.predict(input_data)[0]\n",
    "\n",
    "# Função para arredondar para os valores desejados\n",
    "def round_to_nearest(value):\n",
    "    return min([1, 1.5, 2, 2.5, 3, 3.5, 4, 4.5, 5], key=lambda x: abs(x - value))\n",
    "\n",
    "# Arredondando a previsão\n",
    "rounded_prediction = round_to_nearest(predicted_overall)\n",
    "\n",
    "print(f\"Previsão para review_overall: {rounded_prediction:.1f}\")"
   ]
  },
  {
   "cell_type": "markdown",
   "id": "b3183102",
   "metadata": {
    "_cell_guid": "bf618aa2-96e5-4353-afe2-1cddebf48e7f",
    "_uuid": "dd903b16-f783-4be1-a8c8-9c1d2ee55faa",
    "papermill": {
     "duration": 0.010704,
     "end_time": "2024-10-29T13:15:12.855524",
     "exception": false,
     "start_time": "2024-10-29T13:15:12.844820",
     "status": "completed"
    },
    "tags": []
   },
   "source": [
    "# 10 - Modelos de Aprendizagem de Máquina Não Supervisionada"
   ]
  },
  {
   "cell_type": "markdown",
   "id": "a2ba2efe",
   "metadata": {
    "_cell_guid": "13ed8457-86e4-43a6-ac11-1436643e0c0a",
    "_uuid": "1f79b5e6-b678-402b-928f-22175280088c",
    "papermill": {
     "duration": 0.010456,
     "end_time": "2024-10-29T13:15:12.876646",
     "exception": false,
     "start_time": "2024-10-29T13:15:12.866190",
     "status": "completed"
    },
    "tags": []
   },
   "source": [
    "## 10.1 - K-Means\n",
    "O K-Means é um algoritmo de aprendizado não supervisionado que tenta dividir os dados em k clusters (agrupamentos) com base nas características dos dados. O algoritmo tenta minimizar a variabilidade dentro dos clusters, atribuindo cada ponto de dados ao centroide mais próximo. Ao contrário dos outros modelos, o K-Means não usa rótulos para prever classes, mas sim agrupa dados com características similares."
   ]
  },
  {
   "cell_type": "code",
   "execution_count": 19,
   "id": "46977265",
   "metadata": {
    "_cell_guid": "c4a0b43e-220a-4eb1-888b-8f852f32f147",
    "_uuid": "99927646-c326-49aa-875c-54078d4bb679",
    "collapsed": false,
    "execution": {
     "iopub.execute_input": "2024-10-29T13:15:12.899728Z",
     "iopub.status.busy": "2024-10-29T13:15:12.899165Z",
     "iopub.status.idle": "2024-10-29T13:19:50.992044Z",
     "shell.execute_reply": "2024-10-29T13:19:50.989989Z"
    },
    "jupyter": {
     "outputs_hidden": false
    },
    "papermill": {
     "duration": 278.107865,
     "end_time": "2024-10-29T13:19:50.995153",
     "exception": false,
     "start_time": "2024-10-29T13:15:12.887288",
     "status": "completed"
    },
    "tags": []
   },
   "outputs": [
    {
     "name": "stdout",
     "output_type": "stream",
     "text": [
      "Silhouette Score: 0.45062112153124595\n",
      "Davies-Bouldin Index: 0.7867981830883263\n",
      "Calinski-Harabasz Index: 200226.7791380189\n"
     ]
    },
    {
     "data": {
      "image/png": "[encoded data removed]",
      "text/plain": [
       "<Figure size 1000x600 with 2 Axes>"
      ]
     },
     "metadata": {},
     "output_type": "display_data"
    }
   ],
   "source": [
    "kmeans = KMeans(n_clusters=3, random_state=42, n_init=10)\n",
    "df2['cluster'] = kmeans.fit_predict(df2[['review_taste', 'review_overall']])\n",
    "\n",
    "# Calculando as métricas\n",
    "silhouette_avg = silhouette_score(df2[['review_taste', 'review_overall']], df2['cluster'])\n",
    "davies_bouldin = davies_bouldin_score(df2[['review_taste', 'review_overall']], df2['cluster'])\n",
    "calinski_harabasz = calinski_harabasz_score(df2[['review_taste', 'review_overall']], df2['cluster'])\n",
    "\n",
    "# Exibindo as métricas\n",
    "print(f\"Silhouette Score: {silhouette_avg}\")\n",
    "print(f\"Davies-Bouldin Index: {davies_bouldin}\")\n",
    "print(f\"Calinski-Harabasz Index: {calinski_harabasz}\")\n",
    "\n",
    "# Visualizando os clusters\n",
    "plt.figure(figsize=(10, 6))\n",
    "plt.scatter(df2['review_taste'], df2['review_overall'], c=df2['cluster'], cmap='viridis', alpha=0.6)\n",
    "plt.title('Clusters de Cervejas')\n",
    "plt.xlabel('Nota de Sabor (review_taste)')\n",
    "plt.ylabel('Nota Geral (review_overall)')\n",
    "plt.colorbar(label='Cluster')\n",
    "plt.show()"
   ]
  },
  {
   "cell_type": "markdown",
   "id": "dade0559",
   "metadata": {
    "_cell_guid": "395f916f-5e60-42bc-a177-1b8cff198e0a",
    "_uuid": "09886489-6eaf-4f16-88c2-b04a95bbf229",
    "papermill": {
     "duration": 0.01124,
     "end_time": "2024-10-29T13:19:51.021740",
     "exception": false,
     "start_time": "2024-10-29T13:19:51.010500",
     "status": "completed"
    },
    "tags": []
   },
   "source": [
    "## 10.2 - Rede Neural\n",
    "Uma Rede Neural Artificial (RNA), como o Perceptron Multicamadas (MLP), é um modelo de aprendizado supervisionado que tenta simular o comportamento de neurônios do cérebro humano. Ele consiste em camadas de neurônios (nós) interconectados, e cada conexão tem um peso que é ajustado durante o treinamento. As RNAs são capazes de modelar padrões complexos e não lineares."
   ]
  },
  {
   "cell_type": "code",
   "execution_count": 20,
   "id": "8e480f29",
   "metadata": {
    "_cell_guid": "e8486502-5f9f-4b50-a7db-f39894b4042b",
    "_uuid": "7ff47ab6-8b17-435b-8b5c-2b3dbdad6b1b",
    "collapsed": false,
    "execution": {
     "iopub.execute_input": "2024-10-29T13:19:51.046417Z",
     "iopub.status.busy": "2024-10-29T13:19:51.046010Z",
     "iopub.status.idle": "2024-10-29T13:27:16.081519Z",
     "shell.execute_reply": "2024-10-29T13:27:16.080344Z"
    },
    "jupyter": {
     "outputs_hidden": false
    },
    "papermill": {
     "duration": 445.050477,
     "end_time": "2024-10-29T13:27:16.083659",
     "exception": false,
     "start_time": "2024-10-29T13:19:51.033182",
     "status": "completed"
    },
    "tags": []
   },
   "outputs": [
    {
     "name": "stdout",
     "output_type": "stream",
     "text": [
      "Epoch 1/100\n",
      "\u001b[1m3174/3174\u001b[0m \u001b[32m━━━━━━━━━━━━━━━━━━━━\u001b[0m\u001b[37m\u001b[0m \u001b[1m6s\u001b[0m 1ms/step - loss: 0.3186 - val_loss: 0.1775\n",
      "Epoch 2/100\n",
      "\u001b[1m3174/3174\u001b[0m \u001b[32m━━━━━━━━━━━━━━━━━━━━\u001b[0m\u001b[37m\u001b[0m \u001b[1m4s\u001b[0m 1ms/step - loss: 0.1756 - val_loss: 0.1742\n",
      "Epoch 3/100\n",
      "\u001b[1m3174/3174\u001b[0m \u001b[32m━━━━━━━━━━━━━━━━━━━━\u001b[0m\u001b[37m\u001b[0m \u001b[1m4s\u001b[0m 1ms/step - loss: 0.1777 - val_loss: 0.1746\n",
      "Epoch 4/100\n",
      "\u001b[1m3174/3174\u001b[0m \u001b[32m━━━━━━━━━━━━━━━━━━━━\u001b[0m\u001b[37m\u001b[0m \u001b[1m4s\u001b[0m 1ms/step - loss: 0.1737 - val_loss: 0.1754\n",
      "Epoch 5/100\n",
      "\u001b[1m3174/3174\u001b[0m \u001b[32m━━━━━━━━━━━━━━━━━━━━\u001b[0m\u001b[37m\u001b[0m \u001b[1m4s\u001b[0m 1ms/step - loss: 0.1751 - val_loss: 0.1760\n",
      "Epoch 6/100\n",
      "\u001b[1m3174/3174\u001b[0m \u001b[32m━━━━━━━━━━━━━━━━━━━━\u001b[0m\u001b[37m\u001b[0m \u001b[1m4s\u001b[0m 1ms/step - loss: 0.1746 - val_loss: 0.1757\n",
      "Epoch 7/100\n",
      "\u001b[1m3174/3174\u001b[0m \u001b[32m━━━━━━━━━━━━━━━━━━━━\u001b[0m\u001b[37m\u001b[0m \u001b[1m4s\u001b[0m 1ms/step - loss: 0.1746 - val_loss: 0.1771\n",
      "Epoch 8/100\n",
      "\u001b[1m3174/3174\u001b[0m \u001b[32m━━━━━━━━━━━━━━━━━━━━\u001b[0m\u001b[37m\u001b[0m \u001b[1m4s\u001b[0m 1ms/step - loss: 0.1743 - val_loss: 0.1764\n",
      "Epoch 9/100\n",
      "\u001b[1m3174/3174\u001b[0m \u001b[32m━━━━━━━━━━━━━━━━━━━━\u001b[0m\u001b[37m\u001b[0m \u001b[1m4s\u001b[0m 1ms/step - loss: 0.1737 - val_loss: 0.1755\n",
      "Epoch 10/100\n",
      "\u001b[1m3174/3174\u001b[0m \u001b[32m━━━━━━━━━━━━━━━━━━━━\u001b[0m\u001b[37m\u001b[0m \u001b[1m4s\u001b[0m 1ms/step - loss: 0.1733 - val_loss: 0.1760\n",
      "Epoch 11/100\n",
      "\u001b[1m3174/3174\u001b[0m \u001b[32m━━━━━━━━━━━━━━━━━━━━\u001b[0m\u001b[37m\u001b[0m \u001b[1m4s\u001b[0m 1ms/step - loss: 0.1734 - val_loss: 0.1747\n",
      "Epoch 12/100\n",
      "\u001b[1m3174/3174\u001b[0m \u001b[32m━━━━━━━━━━━━━━━━━━━━\u001b[0m\u001b[37m\u001b[0m \u001b[1m4s\u001b[0m 1ms/step - loss: 0.1731 - val_loss: 0.1744\n",
      "Epoch 13/100\n",
      "\u001b[1m3174/3174\u001b[0m \u001b[32m━━━━━━━━━━━━━━━━━━━━\u001b[0m\u001b[37m\u001b[0m \u001b[1m4s\u001b[0m 1ms/step - loss: 0.1726 - val_loss: 0.1742\n",
      "Epoch 14/100\n",
      "\u001b[1m3174/3174\u001b[0m \u001b[32m━━━━━━━━━━━━━━━━━━━━\u001b[0m\u001b[37m\u001b[0m \u001b[1m4s\u001b[0m 1ms/step - loss: 0.1725 - val_loss: 0.1743\n",
      "Epoch 15/100\n",
      "\u001b[1m3174/3174\u001b[0m \u001b[32m━━━━━━━━━━━━━━━━━━━━\u001b[0m\u001b[37m\u001b[0m \u001b[1m4s\u001b[0m 1ms/step - loss: 0.1731 - val_loss: 0.1771\n",
      "Epoch 16/100\n",
      "\u001b[1m3174/3174\u001b[0m \u001b[32m━━━━━━━━━━━━━━━━━━━━\u001b[0m\u001b[37m\u001b[0m \u001b[1m5s\u001b[0m 1ms/step - loss: 0.1738 - val_loss: 0.1739\n",
      "Epoch 17/100\n",
      "\u001b[1m3174/3174\u001b[0m \u001b[32m━━━━━━━━━━━━━━━━━━━━\u001b[0m\u001b[37m\u001b[0m \u001b[1m5s\u001b[0m 1ms/step - loss: 0.1737 - val_loss: 0.1744\n",
      "Epoch 18/100\n",
      "\u001b[1m3174/3174\u001b[0m \u001b[32m━━━━━━━━━━━━━━━━━━━━\u001b[0m\u001b[37m\u001b[0m \u001b[1m4s\u001b[0m 1ms/step - loss: 0.1725 - val_loss: 0.1749\n",
      "Epoch 19/100\n",
      "\u001b[1m3174/3174\u001b[0m \u001b[32m━━━━━━━━━━━━━━━━━━━━\u001b[0m\u001b[37m\u001b[0m \u001b[1m4s\u001b[0m 1ms/step - loss: 0.1723 - val_loss: 0.1739\n",
      "Epoch 20/100\n",
      "\u001b[1m3174/3174\u001b[0m \u001b[32m━━━━━━━━━━━━━━━━━━━━\u001b[0m\u001b[37m\u001b[0m \u001b[1m4s\u001b[0m 1ms/step - loss: 0.1724 - val_loss: 0.1749\n",
      "Epoch 21/100\n",
      "\u001b[1m3174/3174\u001b[0m \u001b[32m━━━━━━━━━━━━━━━━━━━━\u001b[0m\u001b[37m\u001b[0m \u001b[1m4s\u001b[0m 1ms/step - loss: 0.1714 - val_loss: 0.1842\n",
      "Epoch 22/100\n",
      "\u001b[1m3174/3174\u001b[0m \u001b[32m━━━━━━━━━━━━━━━━━━━━\u001b[0m\u001b[37m\u001b[0m \u001b[1m4s\u001b[0m 1ms/step - loss: 0.1706 - val_loss: 0.1745\n",
      "Epoch 23/100\n",
      "\u001b[1m3174/3174\u001b[0m \u001b[32m━━━━━━━━━━━━━━━━━━━━\u001b[0m\u001b[37m\u001b[0m \u001b[1m5s\u001b[0m 1ms/step - loss: 0.1732 - val_loss: 0.1750\n",
      "Epoch 24/100\n",
      "\u001b[1m3174/3174\u001b[0m \u001b[32m━━━━━━━━━━━━━━━━━━━━\u001b[0m\u001b[37m\u001b[0m \u001b[1m4s\u001b[0m 1ms/step - loss: 0.1719 - val_loss: 0.1755\n",
      "Epoch 25/100\n",
      "\u001b[1m3174/3174\u001b[0m \u001b[32m━━━━━━━━━━━━━━━━━━━━\u001b[0m\u001b[37m\u001b[0m \u001b[1m5s\u001b[0m 1ms/step - loss: 0.1718 - val_loss: 0.1748\n",
      "Epoch 26/100\n",
      "\u001b[1m3174/3174\u001b[0m \u001b[32m━━━━━━━━━━━━━━━━━━━━\u001b[0m\u001b[37m\u001b[0m \u001b[1m5s\u001b[0m 1ms/step - loss: 0.1715 - val_loss: 0.1743\n",
      "Epoch 27/100\n",
      "\u001b[1m3174/3174\u001b[0m \u001b[32m━━━━━━━━━━━━━━━━━━━━\u001b[0m\u001b[37m\u001b[0m \u001b[1m4s\u001b[0m 1ms/step - loss: 0.1724 - val_loss: 0.1751\n",
      "Epoch 28/100\n",
      "\u001b[1m3174/3174\u001b[0m \u001b[32m━━━━━━━━━━━━━━━━━━━━\u001b[0m\u001b[37m\u001b[0m \u001b[1m4s\u001b[0m 1ms/step - loss: 0.1736 - val_loss: 0.1758\n",
      "Epoch 29/100\n",
      "\u001b[1m3174/3174\u001b[0m \u001b[32m━━━━━━━━━━━━━━━━━━━━\u001b[0m\u001b[37m\u001b[0m \u001b[1m4s\u001b[0m 1ms/step - loss: 0.1717 - val_loss: 0.1747\n",
      "Epoch 30/100\n",
      "\u001b[1m3174/3174\u001b[0m \u001b[32m━━━━━━━━━━━━━━━━━━━━\u001b[0m\u001b[37m\u001b[0m \u001b[1m5s\u001b[0m 1ms/step - loss: 0.1749 - val_loss: 0.1742\n",
      "Epoch 31/100\n",
      "\u001b[1m3174/3174\u001b[0m \u001b[32m━━━━━━━━━━━━━━━━━━━━\u001b[0m\u001b[37m\u001b[0m \u001b[1m4s\u001b[0m 1ms/step - loss: 0.1718 - val_loss: 0.1754\n",
      "Epoch 32/100\n",
      "\u001b[1m3174/3174\u001b[0m \u001b[32m━━━━━━━━━━━━━━━━━━━━\u001b[0m\u001b[37m\u001b[0m \u001b[1m4s\u001b[0m 1ms/step - loss: 0.1719 - val_loss: 0.1740\n",
      "Epoch 33/100\n",
      "\u001b[1m3174/3174\u001b[0m \u001b[32m━━━━━━━━━━━━━━━━━━━━\u001b[0m\u001b[37m\u001b[0m \u001b[1m5s\u001b[0m 1ms/step - loss: 0.1720 - val_loss: 0.1736\n",
      "Epoch 34/100\n",
      "\u001b[1m3174/3174\u001b[0m \u001b[32m━━━━━━━━━━━━━━━━━━━━\u001b[0m\u001b[37m\u001b[0m \u001b[1m5s\u001b[0m 1ms/step - loss: 0.1716 - val_loss: 0.1745\n",
      "Epoch 35/100\n",
      "\u001b[1m3174/3174\u001b[0m \u001b[32m━━━━━━━━━━━━━━━━━━━━\u001b[0m\u001b[37m\u001b[0m \u001b[1m5s\u001b[0m 2ms/step - loss: 0.1734 - val_loss: 0.1773\n",
      "Epoch 36/100\n",
      "\u001b[1m3174/3174\u001b[0m \u001b[32m━━━━━━━━━━━━━━━━━━━━\u001b[0m\u001b[37m\u001b[0m \u001b[1m5s\u001b[0m 2ms/step - loss: 0.1722 - val_loss: 0.1757\n",
      "Epoch 37/100\n",
      "\u001b[1m3174/3174\u001b[0m \u001b[32m━━━━━━━━━━━━━━━━━━━━\u001b[0m\u001b[37m\u001b[0m \u001b[1m5s\u001b[0m 2ms/step - loss: 0.1708 - val_loss: 0.1744\n",
      "Epoch 38/100\n",
      "\u001b[1m3174/3174\u001b[0m \u001b[32m━━━━━━━━━━━━━━━━━━━━\u001b[0m\u001b[37m\u001b[0m \u001b[1m6s\u001b[0m 2ms/step - loss: 0.1740 - val_loss: 0.1757\n",
      "Epoch 39/100\n",
      "\u001b[1m3174/3174\u001b[0m \u001b[32m━━━━━━━━━━━━━━━━━━━━\u001b[0m\u001b[37m\u001b[0m \u001b[1m5s\u001b[0m 2ms/step - loss: 0.1728 - val_loss: 0.1741\n",
      "Epoch 40/100\n",
      "\u001b[1m3174/3174\u001b[0m \u001b[32m━━━━━━━━━━━━━━━━━━━━\u001b[0m\u001b[37m\u001b[0m \u001b[1m5s\u001b[0m 1ms/step - loss: 0.1721 - val_loss: 0.1769\n",
      "Epoch 41/100\n",
      "\u001b[1m3174/3174\u001b[0m \u001b[32m━━━━━━━━━━━━━━━━━━━━\u001b[0m\u001b[37m\u001b[0m \u001b[1m5s\u001b[0m 2ms/step - loss: 0.1725 - val_loss: 0.1759\n",
      "Epoch 42/100\n",
      "\u001b[1m3174/3174\u001b[0m \u001b[32m━━━━━━━━━━━━━━━━━━━━\u001b[0m\u001b[37m\u001b[0m \u001b[1m5s\u001b[0m 1ms/step - loss: 0.1735 - val_loss: 0.1741\n",
      "Epoch 43/100\n",
      "\u001b[1m3174/3174\u001b[0m \u001b[32m━━━━━━━━━━━━━━━━━━━━\u001b[0m\u001b[37m\u001b[0m \u001b[1m5s\u001b[0m 1ms/step - loss: 0.1713 - val_loss: 0.1745\n",
      "Epoch 44/100\n",
      "\u001b[1m3174/3174\u001b[0m \u001b[32m━━━━━━━━━━━━━━━━━━━━\u001b[0m\u001b[37m\u001b[0m \u001b[1m4s\u001b[0m 1ms/step - loss: 0.1699 - val_loss: 0.1750\n",
      "Epoch 45/100\n",
      "\u001b[1m3174/3174\u001b[0m \u001b[32m━━━━━━━━━━━━━━━━━━━━\u001b[0m\u001b[37m\u001b[0m \u001b[1m4s\u001b[0m 1ms/step - loss: 0.1702 - val_loss: 0.1753\n",
      "Epoch 46/100\n",
      "\u001b[1m3174/3174\u001b[0m \u001b[32m━━━━━━━━━━━━━━━━━━━━\u001b[0m\u001b[37m\u001b[0m \u001b[1m4s\u001b[0m 1ms/step - loss: 0.1724 - val_loss: 0.1742\n",
      "Epoch 47/100\n",
      "\u001b[1m3174/3174\u001b[0m \u001b[32m━━━━━━━━━━━━━━━━━━━━\u001b[0m\u001b[37m\u001b[0m \u001b[1m4s\u001b[0m 1ms/step - loss: 0.1731 - val_loss: 0.1750\n",
      "Epoch 48/100\n",
      "\u001b[1m3174/3174\u001b[0m \u001b[32m━━━━━━━━━━━━━━━━━━━━\u001b[0m\u001b[37m\u001b[0m \u001b[1m4s\u001b[0m 1ms/step - loss: 0.1706 - val_loss: 0.1746\n",
      "Epoch 49/100\n",
      "\u001b[1m3174/3174\u001b[0m \u001b[32m━━━━━━━━━━━━━━━━━━━━\u001b[0m\u001b[37m\u001b[0m \u001b[1m4s\u001b[0m 1ms/step - loss: 0.1721 - val_loss: 0.1737\n",
      "Epoch 50/100\n",
      "\u001b[1m3174/3174\u001b[0m \u001b[32m━━━━━━━━━━━━━━━━━━━━\u001b[0m\u001b[37m\u001b[0m \u001b[1m4s\u001b[0m 1ms/step - loss: 0.1705 - val_loss: 0.1805\n",
      "Epoch 51/100\n",
      "\u001b[1m3174/3174\u001b[0m \u001b[32m━━━━━━━━━━━━━━━━━━━━\u001b[0m\u001b[37m\u001b[0m \u001b[1m4s\u001b[0m 1ms/step - loss: 0.1720 - val_loss: 0.1757\n",
      "Epoch 52/100\n",
      "\u001b[1m3174/3174\u001b[0m \u001b[32m━━━━━━━━━━━━━━━━━━━━\u001b[0m\u001b[37m\u001b[0m \u001b[1m4s\u001b[0m 1ms/step - loss: 0.1710 - val_loss: 0.1839\n",
      "Epoch 53/100\n",
      "\u001b[1m3174/3174\u001b[0m \u001b[32m━━━━━━━━━━━━━━━━━━━━\u001b[0m\u001b[37m\u001b[0m \u001b[1m4s\u001b[0m 1ms/step - loss: 0.1700 - val_loss: 0.1743\n",
      "Epoch 54/100\n",
      "\u001b[1m3174/3174\u001b[0m \u001b[32m━━━━━━━━━━━━━━━━━━━━\u001b[0m\u001b[37m\u001b[0m \u001b[1m4s\u001b[0m 1ms/step - loss: 0.1731 - val_loss: 0.1739\n",
      "Epoch 55/100\n",
      "\u001b[1m3174/3174\u001b[0m \u001b[32m━━━━━━━━━━━━━━━━━━━━\u001b[0m\u001b[37m\u001b[0m \u001b[1m4s\u001b[0m 1ms/step - loss: 0.1729 - val_loss: 0.1756\n",
      "Epoch 56/100\n",
      "\u001b[1m3174/3174\u001b[0m \u001b[32m━━━━━━━━━━━━━━━━━━━━\u001b[0m\u001b[37m\u001b[0m \u001b[1m4s\u001b[0m 1ms/step - loss: 0.1726 - val_loss: 0.1739\n",
      "Epoch 57/100\n",
      "\u001b[1m3174/3174\u001b[0m \u001b[32m━━━━━━━━━━━━━━━━━━━━\u001b[0m\u001b[37m\u001b[0m \u001b[1m4s\u001b[0m 1ms/step - loss: 0.1727 - val_loss: 0.1766\n",
      "Epoch 58/100\n",
      "\u001b[1m3174/3174\u001b[0m \u001b[32m━━━━━━━━━━━━━━━━━━━━\u001b[0m\u001b[37m\u001b[0m \u001b[1m5s\u001b[0m 1ms/step - loss: 0.1731 - val_loss: 0.1742\n",
      "Epoch 59/100\n",
      "\u001b[1m3174/3174\u001b[0m \u001b[32m━━━━━━━━━━━━━━━━━━━━\u001b[0m\u001b[37m\u001b[0m \u001b[1m4s\u001b[0m 1ms/step - loss: 0.1710 - val_loss: 0.1740\n",
      "Epoch 60/100\n",
      "\u001b[1m3174/3174\u001b[0m \u001b[32m━━━━━━━━━━━━━━━━━━━━\u001b[0m\u001b[37m\u001b[0m \u001b[1m4s\u001b[0m 1ms/step - loss: 0.1721 - val_loss: 0.1767\n",
      "Epoch 61/100\n",
      "\u001b[1m3174/3174\u001b[0m \u001b[32m━━━━━━━━━━━━━━━━━━━━\u001b[0m\u001b[37m\u001b[0m \u001b[1m4s\u001b[0m 1ms/step - loss: 0.1712 - val_loss: 0.1737\n",
      "Epoch 62/100\n",
      "\u001b[1m3174/3174\u001b[0m \u001b[32m━━━━━━━━━━━━━━━━━━━━\u001b[0m\u001b[37m\u001b[0m \u001b[1m5s\u001b[0m 1ms/step - loss: 0.1723 - val_loss: 0.1786\n",
      "Epoch 63/100\n",
      "\u001b[1m3174/3174\u001b[0m \u001b[32m━━━━━━━━━━━━━━━━━━━━\u001b[0m\u001b[37m\u001b[0m \u001b[1m4s\u001b[0m 1ms/step - loss: 0.1710 - val_loss: 0.1792\n",
      "Epoch 64/100\n",
      "\u001b[1m3174/3174\u001b[0m \u001b[32m━━━━━━━━━━━━━━━━━━━━\u001b[0m\u001b[37m\u001b[0m \u001b[1m4s\u001b[0m 1ms/step - loss: 0.1723 - val_loss: 0.1747\n",
      "Epoch 65/100\n",
      "\u001b[1m3174/3174\u001b[0m \u001b[32m━━━━━━━━━━━━━━━━━━━━\u001b[0m\u001b[37m\u001b[0m \u001b[1m5s\u001b[0m 1ms/step - loss: 0.1729 - val_loss: 0.1740\n",
      "Epoch 66/100\n",
      "\u001b[1m3174/3174\u001b[0m \u001b[32m━━━━━━━━━━━━━━━━━━━━\u001b[0m\u001b[37m\u001b[0m \u001b[1m4s\u001b[0m 1ms/step - loss: 0.1710 - val_loss: 0.1761\n",
      "Epoch 67/100\n",
      "\u001b[1m3174/3174\u001b[0m \u001b[32m━━━━━━━━━━━━━━━━━━━━\u001b[0m\u001b[37m\u001b[0m \u001b[1m4s\u001b[0m 1ms/step - loss: 0.1740 - val_loss: 0.1741\n",
      "Epoch 68/100\n",
      "\u001b[1m3174/3174\u001b[0m \u001b[32m━━━━━━━━━━━━━━━━━━━━\u001b[0m\u001b[37m\u001b[0m \u001b[1m4s\u001b[0m 1ms/step - loss: 0.1720 - val_loss: 0.1769\n",
      "Epoch 69/100\n",
      "\u001b[1m3174/3174\u001b[0m \u001b[32m━━━━━━━━━━━━━━━━━━━━\u001b[0m\u001b[37m\u001b[0m \u001b[1m5s\u001b[0m 1ms/step - loss: 0.1717 - val_loss: 0.1740\n",
      "Epoch 70/100\n",
      "\u001b[1m3174/3174\u001b[0m \u001b[32m━━━━━━━━━━━━━━━━━━━━\u001b[0m\u001b[37m\u001b[0m \u001b[1m4s\u001b[0m 1ms/step - loss: 0.1697 - val_loss: 0.1748\n",
      "Epoch 71/100\n",
      "\u001b[1m3174/3174\u001b[0m \u001b[32m━━━━━━━━━━━━━━━━━━━━\u001b[0m\u001b[37m\u001b[0m \u001b[1m4s\u001b[0m 1ms/step - loss: 0.1721 - val_loss: 0.1737\n",
      "Epoch 72/100\n",
      "\u001b[1m3174/3174\u001b[0m \u001b[32m━━━━━━━━━━━━━━━━━━━━\u001b[0m\u001b[37m\u001b[0m \u001b[1m4s\u001b[0m 1ms/step - loss: 0.1729 - val_loss: 0.1739\n",
      "Epoch 73/100\n",
      "\u001b[1m3174/3174\u001b[0m \u001b[32m━━━━━━━━━━━━━━━━━━━━\u001b[0m\u001b[37m\u001b[0m \u001b[1m4s\u001b[0m 1ms/step - loss: 0.1734 - val_loss: 0.1752\n",
      "Epoch 74/100\n",
      "\u001b[1m3174/3174\u001b[0m \u001b[32m━━━━━━━━━━━━━━━━━━━━\u001b[0m\u001b[37m\u001b[0m \u001b[1m4s\u001b[0m 1ms/step - loss: 0.1703 - val_loss: 0.1737\n",
      "Epoch 75/100\n",
      "\u001b[1m3174/3174\u001b[0m \u001b[32m━━━━━━━━━━━━━━━━━━━━\u001b[0m\u001b[37m\u001b[0m \u001b[1m4s\u001b[0m 1ms/step - loss: 0.1724 - val_loss: 0.1746\n",
      "Epoch 76/100\n",
      "\u001b[1m3174/3174\u001b[0m \u001b[32m━━━━━━━━━━━━━━━━━━━━\u001b[0m\u001b[37m\u001b[0m \u001b[1m4s\u001b[0m 1ms/step - loss: 0.1722 - val_loss: 0.1746\n",
      "Epoch 77/100\n",
      "\u001b[1m3174/3174\u001b[0m \u001b[32m━━━━━━━━━━━━━━━━━━━━\u001b[0m\u001b[37m\u001b[0m \u001b[1m4s\u001b[0m 1ms/step - loss: 0.1722 - val_loss: 0.1741\n",
      "Epoch 78/100\n",
      "\u001b[1m3174/3174\u001b[0m \u001b[32m━━━━━━━━━━━━━━━━━━━━\u001b[0m\u001b[37m\u001b[0m \u001b[1m4s\u001b[0m 1ms/step - loss: 0.1704 - val_loss: 0.1743\n",
      "Epoch 79/100\n",
      "\u001b[1m3174/3174\u001b[0m \u001b[32m━━━━━━━━━━━━━━━━━━━━\u001b[0m\u001b[37m\u001b[0m \u001b[1m4s\u001b[0m 1ms/step - loss: 0.1739 - val_loss: 0.1772\n",
      "Epoch 80/100\n",
      "\u001b[1m3174/3174\u001b[0m \u001b[32m━━━━━━━━━━━━━━━━━━━━\u001b[0m\u001b[37m\u001b[0m \u001b[1m5s\u001b[0m 1ms/step - loss: 0.1713 - val_loss: 0.1745\n",
      "Epoch 81/100\n",
      "\u001b[1m3174/3174\u001b[0m \u001b[32m━━━━━━━━━━━━━━━━━━━━\u001b[0m\u001b[37m\u001b[0m \u001b[1m4s\u001b[0m 1ms/step - loss: 0.1728 - val_loss: 0.1737\n",
      "Epoch 82/100\n",
      "\u001b[1m3174/3174\u001b[0m \u001b[32m━━━━━━━━━━━━━━━━━━━━\u001b[0m\u001b[37m\u001b[0m \u001b[1m4s\u001b[0m 1ms/step - loss: 0.1722 - val_loss: 0.1738\n",
      "Epoch 83/100\n",
      "\u001b[1m3174/3174\u001b[0m \u001b[32m━━━━━━━━━━━━━━━━━━━━\u001b[0m\u001b[37m\u001b[0m \u001b[1m4s\u001b[0m 1ms/step - loss: 0.1720 - val_loss: 0.1790\n",
      "Epoch 84/100\n",
      "\u001b[1m3174/3174\u001b[0m \u001b[32m━━━━━━━━━━━━━━━━━━━━\u001b[0m\u001b[37m\u001b[0m \u001b[1m4s\u001b[0m 1ms/step - loss: 0.1714 - val_loss: 0.1740\n",
      "Epoch 85/100\n",
      "\u001b[1m3174/3174\u001b[0m \u001b[32m━━━━━━━━━━━━━━━━━━━━\u001b[0m\u001b[37m\u001b[0m \u001b[1m4s\u001b[0m 1ms/step - loss: 0.1736 - val_loss: 0.1739\n",
      "Epoch 86/100\n",
      "\u001b[1m3174/3174\u001b[0m \u001b[32m━━━━━━━━━━━━━━━━━━━━\u001b[0m\u001b[37m\u001b[0m \u001b[1m4s\u001b[0m 1ms/step - loss: 0.1724 - val_loss: 0.1749\n",
      "Epoch 87/100\n",
      "\u001b[1m3174/3174\u001b[0m \u001b[32m━━━━━━━━━━━━━━━━━━━━\u001b[0m\u001b[37m\u001b[0m \u001b[1m4s\u001b[0m 1ms/step - loss: 0.1723 - val_loss: 0.1737\n",
      "Epoch 88/100\n",
      "\u001b[1m3174/3174\u001b[0m \u001b[32m━━━━━━━━━━━━━━━━━━━━\u001b[0m\u001b[37m\u001b[0m \u001b[1m4s\u001b[0m 1ms/step - loss: 0.1720 - val_loss: 0.1742\n",
      "Epoch 89/100\n",
      "\u001b[1m3174/3174\u001b[0m \u001b[32m━━━━━━━━━━━━━━━━━━━━\u001b[0m\u001b[37m\u001b[0m \u001b[1m4s\u001b[0m 1ms/step - loss: 0.1716 - val_loss: 0.1769\n",
      "Epoch 90/100\n",
      "\u001b[1m3174/3174\u001b[0m \u001b[32m━━━━━━━━━━━━━━━━━━━━\u001b[0m\u001b[37m\u001b[0m \u001b[1m4s\u001b[0m 1ms/step - loss: 0.1746 - val_loss: 0.1741\n",
      "Epoch 91/100\n",
      "\u001b[1m3174/3174\u001b[0m \u001b[32m━━━━━━━━━━━━━━━━━━━━\u001b[0m\u001b[37m\u001b[0m \u001b[1m4s\u001b[0m 1ms/step - loss: 0.1723 - val_loss: 0.1771\n",
      "Epoch 92/100\n",
      "\u001b[1m3174/3174\u001b[0m \u001b[32m━━━━━━━━━━━━━━━━━━━━\u001b[0m\u001b[37m\u001b[0m \u001b[1m4s\u001b[0m 1ms/step - loss: 0.1745 - val_loss: 0.1760\n",
      "Epoch 93/100\n",
      "\u001b[1m3174/3174\u001b[0m \u001b[32m━━━━━━━━━━━━━━━━━━━━\u001b[0m\u001b[37m\u001b[0m \u001b[1m4s\u001b[0m 1ms/step - loss: 0.1728 - val_loss: 0.1741\n",
      "Epoch 94/100\n",
      "\u001b[1m3174/3174\u001b[0m \u001b[32m━━━━━━━━━━━━━━━━━━━━\u001b[0m\u001b[37m\u001b[0m \u001b[1m4s\u001b[0m 1ms/step - loss: 0.1700 - val_loss: 0.1749\n",
      "Epoch 95/100\n",
      "\u001b[1m3174/3174\u001b[0m \u001b[32m━━━━━━━━━━━━━━━━━━━━\u001b[0m\u001b[37m\u001b[0m \u001b[1m5s\u001b[0m 1ms/step - loss: 0.1726 - val_loss: 0.1748\n",
      "Epoch 96/100\n",
      "\u001b[1m3174/3174\u001b[0m \u001b[32m━━━━━━━━━━━━━━━━━━━━\u001b[0m\u001b[37m\u001b[0m \u001b[1m4s\u001b[0m 1ms/step - loss: 0.1734 - val_loss: 0.1742\n",
      "Epoch 97/100\n",
      "\u001b[1m3174/3174\u001b[0m \u001b[32m━━━━━━━━━━━━━━━━━━━━\u001b[0m\u001b[37m\u001b[0m \u001b[1m4s\u001b[0m 1ms/step - loss: 0.1709 - val_loss: 0.1802\n",
      "Epoch 98/100\n",
      "\u001b[1m3174/3174\u001b[0m \u001b[32m━━━━━━━━━━━━━━━━━━━━\u001b[0m\u001b[37m\u001b[0m \u001b[1m4s\u001b[0m 1ms/step - loss: 0.1717 - val_loss: 0.1777\n",
      "Epoch 99/100\n",
      "\u001b[1m3174/3174\u001b[0m \u001b[32m━━━━━━━━━━━━━━━━━━━━\u001b[0m\u001b[37m\u001b[0m \u001b[1m4s\u001b[0m 1ms/step - loss: 0.1724 - val_loss: 0.1771\n",
      "Epoch 100/100\n",
      "\u001b[1m3174/3174\u001b[0m \u001b[32m━━━━━━━━━━━━━━━━━━━━\u001b[0m\u001b[37m\u001b[0m \u001b[1m4s\u001b[0m 1ms/step - loss: 0.1738 - val_loss: 0.1775\n",
      "\u001b[1m992/992\u001b[0m \u001b[32m━━━━━━━━━━━━━━━━━━━━\u001b[0m\u001b[37m\u001b[0m \u001b[1m1s\u001b[0m 982us/step\n",
      "Rede Neural - MSE: 0.18, R²: 0.66, Acurácia: 0.79\n",
      "\n"
     ]
    }
   ],
   "source": [
    "nn_model = models.Sequential([\n",
    "    layers.Input(shape=(X_train.shape[1],)),  # Camada de entrada\n",
    "    layers.Dense(64, activation='relu'),  # Camada oculta\n",
    "    layers.Dense(32, activation='relu'),  # Camada oculta\n",
    "    layers.Dense(1)  # Camada de saída\n",
    "])\n",
    "\n",
    "# Compilando o modelo\n",
    "nn_model.compile(optimizer='adam', loss='mean_squared_error')\n",
    "\n",
    "# Treinando a rede neural\n",
    "nn_history = nn_model.fit(X_train, y_train, epochs=100, batch_size=32, validation_split=0.2, verbose=1)\n",
    "\n",
    "# Fazendo previsões\n",
    "nn_predictions = nn_model.predict(X_test)\n",
    "\n",
    "# Avaliando desempenho\n",
    "nn_mse = mean_squared_error(y_test, nn_predictions)\n",
    "nn_r2 = r2_score(y_test, nn_predictions)\n",
    "nn_accuracy = accuracy_score(np.round(y_test).astype(int), np.round(nn_predictions).astype(int))\n",
    "\n",
    "print(f'Rede Neural - MSE: {nn_mse:.2f}, R²: {nn_r2:.2f}, Acurácia: {nn_accuracy:.2f}\\n')"
   ]
  }
 ],
 "metadata": {
  "kaggle": {
   "accelerator": "none",
   "dataSources": [
    {
     "datasetId": 58438,
     "sourceId": 113429,
     "sourceType": "datasetVersion"
    }
   ],
   "dockerImageVersionId": 30786,
   "isGpuEnabled": false,
   "isInternetEnabled": true,
   "language": "python",
   "sourceType": "notebook"
  },
  "kernelspec": {
   "display_name": "Python 3",
   "language": "python",
   "name": "python3"
  },
  "language_info": {
   "codemirror_mode": {
    "name": "ipython",
    "version": 3
   },
   "file_extension": ".py",
   "mimetype": "text/x-python",
   "name": "python",
   "nbconvert_exporter": "python",
   "pygments_lexer": "ipython3",
   "version": "3.10.14"
  },
  "papermill": {
   "default_parameters": {},
   "duration": 1497.043409,
   "end_time": "2024-10-29T13:27:18.196466",
   "environment_variables": {},
   "exception": null,
   "input_path": "__notebook__.ipynb",
   "output_path": "__notebook__.ipynb",
   "parameters": {},
   "start_time": "2024-10-29T13:02:21.153057",
   "version": "2.6.0"
  }
 },
 "nbformat": 4,
 "nbformat_minor": 5
}
